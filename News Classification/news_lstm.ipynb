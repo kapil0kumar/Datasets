{
 "cells": [
  {
   "cell_type": "code",
   "execution_count": 21,
   "metadata": {
    "colab": {
     "base_uri": "https://localhost:8080/",
     "height": 34
    },
    "colab_type": "code",
    "executionInfo": {
     "elapsed": 2346,
     "status": "ok",
     "timestamp": 1543768103328,
     "user": {
      "displayName": "Kapil Kumar",
      "photoUrl": "https://lh6.googleusercontent.com/-tDH3ROOuaEc/AAAAAAAAAAI/AAAAAAAAADo/DVxl3q1zhB8/s64/photo.jpg",
      "userId": "16954715304669911355"
     },
     "user_tz": -330
    },
    "id": "LLQB-icLHuJL",
    "outputId": "d6bbb521-8736-4aca-e2ae-6c48c9bcc5ba"
   },
   "outputs": [
    {
     "name": "stdout",
     "output_type": "stream",
     "text": [
      "Found GPU at: /device:GPU:0\n"
     ]
    }
   ],
   "source": [
    "import tensorflow as tf\n",
    "device_name = tf.test.gpu_device_name()\n",
    "if device_name != '/device:GPU:0':\n",
    "  raise SystemError('GPU device not found')\n",
    "print('Found GPU at: {}'.format(device_name))"
   ]
  },
  {
   "cell_type": "code",
   "execution_count": 0,
   "metadata": {
    "colab": {},
    "colab_type": "code",
    "id": "E_tLv9NkvCNw"
   },
   "outputs": [],
   "source": [
    "import pandas as pd\n",
    "import numpy as np\n",
    "import matplotlib.pyplot as plt\n",
    "from keras.models import Sequential\n",
    "from keras.layers import LSTM, Activation, Dense, Dropout, Input, Embedding, BatchNormalization\n",
    "from keras.optimizers import RMSprop\n",
    "from keras.preprocessing.text import Tokenizer\n",
    "from keras.preprocessing import sequence\n",
    "from keras.utils import to_categorical\n",
    "from keras.callbacks import EarlyStopping\n",
    "from sklearn.model_selection import train_test_split\n",
    "from sklearn.utils import shuffle\n",
    "from keras import regularizers"
   ]
  },
  {
   "cell_type": "code",
   "execution_count": 23,
   "metadata": {
    "colab": {
     "base_uri": "https://localhost:8080/",
     "height": 34
    },
    "colab_type": "code",
    "executionInfo": {
     "elapsed": 2317,
     "status": "ok",
     "timestamp": 1543768103332,
     "user": {
      "displayName": "Kapil Kumar",
      "photoUrl": "https://lh6.googleusercontent.com/-tDH3ROOuaEc/AAAAAAAAAAI/AAAAAAAAADo/DVxl3q1zhB8/s64/photo.jpg",
      "userId": "16954715304669911355"
     },
     "user_tz": -330
    },
    "id": "bC_zUTd7wa3I",
    "outputId": "8934fc09-96f4-481a-c90d-bf7204e5d29d"
   },
   "outputs": [
    {
     "name": "stdout",
     "output_type": "stream",
     "text": [
      "Drive already mounted at /content/drive; to attempt to forcibly remount, call drive.mount(\"/content/drive\", force_remount=True).\n"
     ]
    }
   ],
   "source": [
    "from google.colab import drive\n",
    "drive.mount('/content/drive')"
   ]
  },
  {
   "cell_type": "code",
   "execution_count": 0,
   "metadata": {
    "colab": {},
    "colab_type": "code",
    "id": "nSjKzr5bvCN4"
   },
   "outputs": [],
   "source": [
    "f = open('/content/drive/My Drive/Colab Notebooks/News_Category_Dataset.json','r')\n",
    "df = pd.read_json(f, lines=True, orient='records')"
   ]
  },
  {
   "cell_type": "code",
   "execution_count": 0,
   "metadata": {
    "colab": {},
    "colab_type": "code",
    "id": "EENsP8KTvCN7"
   },
   "outputs": [],
   "source": [
    "df.drop(['date','link'],axis=1,inplace=True)"
   ]
  },
  {
   "cell_type": "code",
   "execution_count": 26,
   "metadata": {
    "colab": {
     "base_uri": "https://localhost:8080/",
     "height": 34
    },
    "colab_type": "code",
    "executionInfo": {
     "elapsed": 4627,
     "status": "ok",
     "timestamp": 1543768105681,
     "user": {
      "displayName": "Kapil Kumar",
      "photoUrl": "https://lh6.googleusercontent.com/-tDH3ROOuaEc/AAAAAAAAAAI/AAAAAAAAADo/DVxl3q1zhB8/s64/photo.jpg",
      "userId": "16954715304669911355"
     },
     "user_tz": -330
    },
    "id": "_dWE8iAovCN9",
    "outputId": "aa05e9a5-0fab-4d37-ce59-b20149791492"
   },
   "outputs": [
    {
     "data": {
      "text/plain": [
       "Index(['authors', 'category', 'headline', 'short_description'], dtype='object')"
      ]
     },
     "execution_count": 26,
     "metadata": {
      "tags": []
     },
     "output_type": "execute_result"
    }
   ],
   "source": [
    "df.columns"
   ]
  },
  {
   "cell_type": "code",
   "execution_count": 0,
   "metadata": {
    "colab": {},
    "colab_type": "code",
    "id": "J5dV3-cjvCOC"
   },
   "outputs": [],
   "source": [
    "df_down = df[df.category=='POLITICS']\n",
    "df_down = df_down[:3500]\n",
    "df  = df[df.category != 'POLITICS']"
   ]
  },
  {
   "cell_type": "code",
   "execution_count": 0,
   "metadata": {
    "colab": {},
    "colab_type": "code",
    "id": "pU_50khtvCOF"
   },
   "outputs": [],
   "source": [
    "df = pd.concat([df,df_down])"
   ]
  },
  {
   "cell_type": "code",
   "execution_count": 0,
   "metadata": {
    "colab": {},
    "colab_type": "code",
    "id": "SlDQhPgJvCOJ"
   },
   "outputs": [],
   "source": [
    "df_down = df[df.category=='ENTERTAINMENT']\n",
    "df_down = df_down[:3500]\n",
    "df  = df[df.category != 'ENTERTAINMENT']\n",
    "df = pd.concat([df,df_down])"
   ]
  },
  {
   "cell_type": "code",
   "execution_count": 30,
   "metadata": {
    "colab": {
     "base_uri": "https://localhost:8080/",
     "height": 34
    },
    "colab_type": "code",
    "executionInfo": {
     "elapsed": 4553,
     "status": "ok",
     "timestamp": 1543768105698,
     "user": {
      "displayName": "Kapil Kumar",
      "photoUrl": "https://lh6.googleusercontent.com/-tDH3ROOuaEc/AAAAAAAAAAI/AAAAAAAAADo/DVxl3q1zhB8/s64/photo.jpg",
      "userId": "16954715304669911355"
     },
     "user_tz": -330
    },
    "id": "k6ULuAqDvCOM",
    "outputId": "f58da25f-316c-43b1-ed69-046b5ed5317c"
   },
   "outputs": [
    {
     "data": {
      "text/plain": [
       "(84993, 4)"
      ]
     },
     "execution_count": 30,
     "metadata": {
      "tags": []
     },
     "output_type": "execute_result"
    }
   ],
   "source": [
    "df = shuffle(df)\n",
    "df.shape"
   ]
  },
  {
   "cell_type": "code",
   "execution_count": 0,
   "metadata": {
    "colab": {},
    "colab_type": "code",
    "id": "V3ZWnVvAvCOQ"
   },
   "outputs": [],
   "source": [
    "X = df.drop('category',axis=1)\n",
    "Y = df.category"
   ]
  },
  {
   "cell_type": "code",
   "execution_count": 32,
   "metadata": {
    "colab": {
     "base_uri": "https://localhost:8080/",
     "height": 34
    },
    "colab_type": "code",
    "executionInfo": {
     "elapsed": 4537,
     "status": "ok",
     "timestamp": 1543768105707,
     "user": {
      "displayName": "Kapil Kumar",
      "photoUrl": "https://lh6.googleusercontent.com/-tDH3ROOuaEc/AAAAAAAAAAI/AAAAAAAAADo/DVxl3q1zhB8/s64/photo.jpg",
      "userId": "16954715304669911355"
     },
     "user_tz": -330
    },
    "id": "yceL77dOvCOU",
    "outputId": "09a7064d-8574-4aac-e354-0a5c72e02040"
   },
   "outputs": [
    {
     "name": "stdout",
     "output_type": "stream",
     "text": [
      "(84993, 3) (84993,)\n"
     ]
    }
   ],
   "source": [
    "print(X.shape,Y.shape)"
   ]
  },
  {
   "cell_type": "code",
   "execution_count": 33,
   "metadata": {
    "colab": {
     "base_uri": "https://localhost:8080/",
     "height": 34
    },
    "colab_type": "code",
    "executionInfo": {
     "elapsed": 4523,
     "status": "ok",
     "timestamp": 1543768105709,
     "user": {
      "displayName": "Kapil Kumar",
      "photoUrl": "https://lh6.googleusercontent.com/-tDH3ROOuaEc/AAAAAAAAAAI/AAAAAAAAADo/DVxl3q1zhB8/s64/photo.jpg",
      "userId": "16954715304669911355"
     },
     "user_tz": -330
    },
    "id": "ZeL9xi25vCOY",
    "outputId": "6505aac8-9693-43db-ba73-2cf12f835dd0"
   },
   "outputs": [
    {
     "name": "stdout",
     "output_type": "stream",
     "text": [
      "(84993,)\n"
     ]
    }
   ],
   "source": [
    "X['data'] = X.authors+\" \"+X.headline\n",
    "X = X['data']\n",
    "print(X.shape)"
   ]
  },
  {
   "cell_type": "code",
   "execution_count": 0,
   "metadata": {
    "colab": {},
    "colab_type": "code",
    "id": "qdQzKG9yvCOb"
   },
   "outputs": [],
   "source": [
    "from sklearn.preprocessing import LabelEncoder"
   ]
  },
  {
   "cell_type": "code",
   "execution_count": 0,
   "metadata": {
    "colab": {},
    "colab_type": "code",
    "id": "pgIdjp_tvCOe"
   },
   "outputs": [],
   "source": [
    "le = LabelEncoder()\n",
    "Y = le.fit_transform(Y)\n",
    "Y = to_categorical(Y,num_classes=len(le.classes_))"
   ]
  },
  {
   "cell_type": "code",
   "execution_count": 0,
   "metadata": {
    "colab": {},
    "colab_type": "code",
    "id": "Cz0yowlivCOh"
   },
   "outputs": [],
   "source": [
    "X_train,X_test,Y_train,Y_test = train_test_split(X,Y,random_state=0,test_size=0.2)"
   ]
  },
  {
   "cell_type": "code",
   "execution_count": 37,
   "metadata": {
    "colab": {
     "base_uri": "https://localhost:8080/",
     "height": 34
    },
    "colab_type": "code",
    "executionInfo": {
     "elapsed": 5265,
     "status": "ok",
     "timestamp": 1543768106510,
     "user": {
      "displayName": "Kapil Kumar",
      "photoUrl": "https://lh6.googleusercontent.com/-tDH3ROOuaEc/AAAAAAAAAAI/AAAAAAAAADo/DVxl3q1zhB8/s64/photo.jpg",
      "userId": "16954715304669911355"
     },
     "user_tz": -330
    },
    "id": "Wz6jmKxYvCOk",
    "outputId": "c46adb8b-9ccd-4092-cef4-59ab1ad20b59"
   },
   "outputs": [
    {
     "data": {
      "text/plain": [
       "(67994,)"
      ]
     },
     "execution_count": 37,
     "metadata": {
      "tags": []
     },
     "output_type": "execute_result"
    }
   ],
   "source": [
    "X_train.shape"
   ]
  },
  {
   "cell_type": "code",
   "execution_count": 0,
   "metadata": {
    "colab": {},
    "colab_type": "code",
    "id": "BiK6l-zfvCOs"
   },
   "outputs": [],
   "source": [
    "words=5000\n",
    "max_len = 150\n",
    "tok = Tokenizer(num_words=words)\n",
    "tok.fit_on_texts(X_train)\n",
    "sequences = tok.texts_to_sequences(X_train)\n",
    "data = sequence.pad_sequences(sequences,maxlen=max_len)"
   ]
  },
  {
   "cell_type": "code",
   "execution_count": 39,
   "metadata": {
    "colab": {
     "base_uri": "https://localhost:8080/",
     "height": 238
    },
    "colab_type": "code",
    "executionInfo": {
     "elapsed": 10246,
     "status": "ok",
     "timestamp": 1543768111513,
     "user": {
      "displayName": "Kapil Kumar",
      "photoUrl": "https://lh6.googleusercontent.com/-tDH3ROOuaEc/AAAAAAAAAAI/AAAAAAAAADo/DVxl3q1zhB8/s64/photo.jpg",
      "userId": "16954715304669911355"
     },
     "user_tz": -330
    },
    "id": "S18axT7vvCOz",
    "outputId": "7a934f3a-a2e2-4836-84bb-2d5770185f80"
   },
   "outputs": [
    {
     "name": "stdout",
     "output_type": "stream",
     "text": [
      "_________________________________________________________________\n",
      "Layer (type)                 Output Shape              Param #   \n",
      "=================================================================\n",
      "embedding_2 (Embedding)      (None, 150, 100)          500000    \n",
      "_________________________________________________________________\n",
      "lstm_2 (LSTM)                (None, 100)               80400     \n",
      "_________________________________________________________________\n",
      "dense_2 (Dense)              (None, 31)                3131      \n",
      "=================================================================\n",
      "Total params: 583,531\n",
      "Trainable params: 583,531\n",
      "Non-trainable params: 0\n",
      "_________________________________________________________________\n"
     ]
    }
   ],
   "source": [
    "model = Sequential()\n",
    "model.add(Embedding(words, 100, input_length=max_len))\n",
    "# model.add(Embedding(len(word_index) + 1,100,weights=[embedding_matrix],input_length=max_len,trainable=False))\n",
    "model.add(LSTM(100, dropout=0.5, recurrent_dropout=0.5))\n",
    "# model.add(Dense(31,activation='relu'))\n",
    "# model.add(Dropout(0.3))\n",
    "model.add(Dense(31, activation='softmax'))\n",
    "model.compile(loss='categorical_crossentropy', optimizer='adam', metrics=['accuracy'])\n",
    "model.summary()"
   ]
  },
  {
   "cell_type": "code",
   "execution_count": 40,
   "metadata": {
    "colab": {
     "base_uri": "https://localhost:8080/",
     "height": 323
    },
    "colab_type": "code",
    "executionInfo": {
     "elapsed": 1619551,
     "status": "ok",
     "timestamp": 1543769720830,
     "user": {
      "displayName": "Kapil Kumar",
      "photoUrl": "https://lh6.googleusercontent.com/-tDH3ROOuaEc/AAAAAAAAAAI/AAAAAAAAADo/DVxl3q1zhB8/s64/photo.jpg",
      "userId": "16954715304669911355"
     },
     "user_tz": -330
    },
    "id": "lTYnZy1AvCO5",
    "outputId": "e85a7b49-592c-4844-b4de-ca2e737f7120"
   },
   "outputs": [
    {
     "name": "stdout",
     "output_type": "stream",
     "text": [
      "Train on 54395 samples, validate on 13599 samples\n",
      "Epoch 1/8\n",
      "54395/54395 [==============================] - 204s 4ms/step - loss: 3.1501 - acc: 0.1030 - val_loss: 2.5834 - val_acc: 0.1905\n",
      "Epoch 2/8\n",
      "54395/54395 [==============================] - 201s 4ms/step - loss: 2.0890 - acc: 0.4007 - val_loss: 1.6130 - val_acc: 0.5554\n",
      "Epoch 3/8\n",
      "54395/54395 [==============================] - 201s 4ms/step - loss: 1.4890 - acc: 0.5868 - val_loss: 1.3927 - val_acc: 0.6098\n",
      "Epoch 4/8\n",
      "54395/54395 [==============================] - 201s 4ms/step - loss: 1.2741 - acc: 0.6428 - val_loss: 1.3189 - val_acc: 0.6284\n",
      "Epoch 5/8\n",
      "54395/54395 [==============================] - 200s 4ms/step - loss: 1.1549 - acc: 0.6693 - val_loss: 1.2848 - val_acc: 0.6420\n",
      "Epoch 6/8\n",
      "54395/54395 [==============================] - 201s 4ms/step - loss: 1.0750 - acc: 0.6886 - val_loss: 1.2783 - val_acc: 0.6434\n",
      "Epoch 7/8\n",
      "54395/54395 [==============================] - 201s 4ms/step - loss: 1.0152 - acc: 0.7018 - val_loss: 1.2751 - val_acc: 0.6459\n",
      "Epoch 8/8\n",
      "54395/54395 [==============================] - 200s 4ms/step - loss: 0.9631 - acc: 0.7148 - val_loss: 1.2803 - val_acc: 0.6450\n"
     ]
    },
    {
     "data": {
      "text/plain": [
       "<keras.callbacks.History at 0x7f9510058128>"
      ]
     },
     "execution_count": 40,
     "metadata": {
      "tags": []
     },
     "output_type": "execute_result"
    }
   ],
   "source": [
    "model.fit(data, Y_train, validation_split=0.2, epochs=8, batch_size=128)"
   ]
  },
  {
   "cell_type": "code",
   "execution_count": 0,
   "metadata": {
    "colab": {},
    "colab_type": "code",
    "id": "5UxJEdEEvCPC"
   },
   "outputs": [],
   "source": [
    "test_sequences = tok.texts_to_sequences(X_test)\n",
    "test_sequences_matrix = sequence.pad_sequences(test_sequences,maxlen=max_len)"
   ]
  },
  {
   "cell_type": "code",
   "execution_count": 42,
   "metadata": {
    "colab": {
     "base_uri": "https://localhost:8080/",
     "height": 34
    },
    "colab_type": "code",
    "executionInfo": {
     "elapsed": 1704662,
     "status": "ok",
     "timestamp": 1543769805962,
     "user": {
      "displayName": "Kapil Kumar",
      "photoUrl": "https://lh6.googleusercontent.com/-tDH3ROOuaEc/AAAAAAAAAAI/AAAAAAAAADo/DVxl3q1zhB8/s64/photo.jpg",
      "userId": "16954715304669911355"
     },
     "user_tz": -330
    },
    "id": "j2euqTFxvCPF",
    "outputId": "ead39b34-3d69-4486-fc85-2b7c1069e973"
   },
   "outputs": [
    {
     "name": "stdout",
     "output_type": "stream",
     "text": [
      "16999/16999 [==============================] - 84s 5ms/step\n"
     ]
    }
   ],
   "source": [
    "accr = model.evaluate(test_sequences_matrix,Y_test)"
   ]
  },
  {
   "cell_type": "code",
   "execution_count": 43,
   "metadata": {
    "colab": {
     "base_uri": "https://localhost:8080/",
     "height": 68
    },
    "colab_type": "code",
    "executionInfo": {
     "elapsed": 1704654,
     "status": "ok",
     "timestamp": 1543769805964,
     "user": {
      "displayName": "Kapil Kumar",
      "photoUrl": "https://lh6.googleusercontent.com/-tDH3ROOuaEc/AAAAAAAAAAI/AAAAAAAAADo/DVxl3q1zhB8/s64/photo.jpg",
      "userId": "16954715304669911355"
     },
     "user_tz": -330
    },
    "id": "ZMrqcqhHviFc",
    "outputId": "c49287b6-8736-4000-88e9-887d370b1c6f"
   },
   "outputs": [
    {
     "name": "stdout",
     "output_type": "stream",
     "text": [
      "Test set\n",
      "  Loss: 1.325\n",
      "  Accuracy: 0.640\n"
     ]
    }
   ],
   "source": [
    "print('Test set\\n  Loss: {:0.3f}\\n  Accuracy: {:0.3f}'.format(accr[0],accr[1]))"
   ]
  },
  {
   "cell_type": "code",
   "execution_count": 0,
   "metadata": {
    "colab": {},
    "colab_type": "code",
    "id": "lJV9kW6wKpIP"
   },
   "outputs": [],
   "source": []
  },
  {
   "cell_type": "code",
   "execution_count": 0,
   "metadata": {
    "colab": {},
    "colab_type": "code",
    "id": "QBs_Hg62vkqf"
   },
   "outputs": [],
   "source": []
  }
 ],
 "metadata": {
  "accelerator": "GPU",
  "colab": {
   "name": "Copy of news_lstm.ipynb",
   "provenance": [
    {
     "file_id": "1wm3jBaQ34fMIxgu_jS4ztz-SDybQefKb",
     "timestamp": 1543770339504
    }
   ],
   "version": "0.3.2"
  },
  "kernelspec": {
   "display_name": "Python 3",
   "language": "python",
   "name": "python3"
  },
  "language_info": {
   "codemirror_mode": {
    "name": "ipython",
    "version": 3
   },
   "file_extension": ".py",
   "mimetype": "text/x-python",
   "name": "python",
   "nbconvert_exporter": "python",
   "pygments_lexer": "ipython3",
   "version": "3.6.5"
  }
 },
 "nbformat": 4,
 "nbformat_minor": 1
}
